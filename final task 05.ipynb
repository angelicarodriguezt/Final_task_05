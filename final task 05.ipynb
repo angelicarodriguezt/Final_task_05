{
 "cells": [
  {
   "cell_type": "code",
   "execution_count": 10,
   "id": "6511f51e",
   "metadata": {},
   "outputs": [
    {
     "name": "stdout",
     "output_type": "stream",
     "text": [
      "\u001b[33mWARNING: Ignoring invalid distribution -sspec (/opt/python/python3.7.9/lib/python3.7/site-packages)\u001b[0m\n",
      "\u001b[33mWARNING: Ignoring invalid distribution -sspec (/opt/python/python3.7.9/lib/python3.7/site-packages)\u001b[0m\n",
      "Collecting gcsfs\n",
      "  Downloading gcsfs-2023.1.0-py2.py3-none-any.whl (26 kB)\n",
      "Collecting requests\n",
      "  Downloading requests-2.31.0-py3-none-any.whl (62 kB)\n",
      "\u001b[K     |████████████████████████████████| 62 kB 1.1 MB/s eta 0:00:011\n",
      "\u001b[?25hCollecting google-auth>=1.2\n",
      "  Downloading google_auth-2.36.0-py2.py3-none-any.whl (209 kB)\n",
      "\u001b[K     |████████████████████████████████| 209 kB 8.9 MB/s eta 0:00:01\n",
      "\u001b[?25hRequirement already satisfied: decorator>4.1.2 in /opt/python/python3.7.9/lib/python3.7/site-packages (from gcsfs) (5.1.1)\n",
      "Collecting google-auth-oauthlib\n",
      "  Downloading google_auth_oauthlib-1.2.1-py2.py3-none-any.whl (24 kB)\n",
      "Requirement already satisfied: fsspec==2023.1.0 in /opt/python/python3.7.9/lib/python3.7/site-packages (from gcsfs) (2023.1.0)\n",
      "Requirement already satisfied: aiohttp!=4.0.0a0,!=4.0.0a1 in /opt/python/python3.7.9/lib/python3.7/site-packages (from gcsfs) (3.8.6)\n",
      "Collecting google-cloud-storage\n",
      "  Downloading google_cloud_storage-2.18.2-py2.py3-none-any.whl (130 kB)\n",
      "\u001b[K     |████████████████████████████████| 130 kB 44.9 MB/s eta 0:00:01\n",
      "\u001b[?25hRequirement already satisfied: typing-extensions>=3.7.4 in /opt/python/python3.7.9/lib/python3.7/site-packages (from aiohttp!=4.0.0a0,!=4.0.0a1->gcsfs) (4.3.0)\n",
      "Requirement already satisfied: multidict<7.0,>=4.5 in /opt/python/python3.7.9/lib/python3.7/site-packages (from aiohttp!=4.0.0a0,!=4.0.0a1->gcsfs) (6.0.5)\n",
      "Requirement already satisfied: charset-normalizer<4.0,>=2.0 in /opt/python/python3.7.9/lib/python3.7/site-packages (from aiohttp!=4.0.0a0,!=4.0.0a1->gcsfs) (3.4.0)\n",
      "Requirement already satisfied: yarl<2.0,>=1.0 in /opt/python/python3.7.9/lib/python3.7/site-packages (from aiohttp!=4.0.0a0,!=4.0.0a1->gcsfs) (1.9.4)\n",
      "Requirement already satisfied: frozenlist>=1.1.1 in /opt/python/python3.7.9/lib/python3.7/site-packages (from aiohttp!=4.0.0a0,!=4.0.0a1->gcsfs) (1.3.3)\n",
      "Requirement already satisfied: attrs>=17.3.0 in /opt/python/python3.7.9/lib/python3.7/site-packages (from aiohttp!=4.0.0a0,!=4.0.0a1->gcsfs) (24.2.0)\n",
      "Requirement already satisfied: aiosignal>=1.1.2 in /opt/python/python3.7.9/lib/python3.7/site-packages (from aiohttp!=4.0.0a0,!=4.0.0a1->gcsfs) (1.3.1)\n",
      "Requirement already satisfied: async-timeout<5.0,>=4.0.0a3 in /opt/python/python3.7.9/lib/python3.7/site-packages (from aiohttp!=4.0.0a0,!=4.0.0a1->gcsfs) (4.0.3)\n",
      "Requirement already satisfied: asynctest==0.13.0 in /opt/python/python3.7.9/lib/python3.7/site-packages (from aiohttp!=4.0.0a0,!=4.0.0a1->gcsfs) (0.13.0)\n",
      "Requirement already satisfied: importlib-metadata in /opt/python/python3.7.9/lib/python3.7/site-packages (from attrs>=17.3.0->aiohttp!=4.0.0a0,!=4.0.0a1->gcsfs) (4.12.0)\n",
      "Collecting cachetools<6.0,>=2.0.0\n",
      "  Downloading cachetools-5.5.0-py3-none-any.whl (9.5 kB)\n",
      "Collecting rsa<5,>=3.1.4\n",
      "  Downloading rsa-4.9-py3-none-any.whl (34 kB)\n",
      "Collecting pyasn1-modules>=0.2.1\n",
      "  Downloading pyasn1_modules-0.3.0-py2.py3-none-any.whl (181 kB)\n",
      "\u001b[K     |████████████████████████████████| 181 kB 47.2 MB/s eta 0:00:01\n",
      "\u001b[?25hCollecting pyasn1<0.6.0,>=0.4.6\n",
      "  Downloading pyasn1-0.5.1-py2.py3-none-any.whl (84 kB)\n",
      "\u001b[K     |████████████████████████████████| 84 kB 4.0 MB/s  eta 0:00:01\n",
      "\u001b[?25hRequirement already satisfied: idna>=2.0 in /opt/python/python3.7.9/lib/python3.7/site-packages (from yarl<2.0,>=1.0->aiohttp!=4.0.0a0,!=4.0.0a1->gcsfs) (3.10)\n",
      "Collecting requests-oauthlib>=0.7.0\n",
      "  Downloading requests_oauthlib-2.0.0-py2.py3-none-any.whl (24 kB)\n",
      "Collecting oauthlib>=3.0.0\n",
      "  Downloading oauthlib-3.2.2-py3-none-any.whl (151 kB)\n",
      "\u001b[K     |████████████████████████████████| 151 kB 48.9 MB/s eta 0:00:01\n",
      "\u001b[?25hCollecting certifi>=2017.4.17\n",
      "  Downloading certifi-2024.8.30-py3-none-any.whl (167 kB)\n",
      "\u001b[K     |████████████████████████████████| 167 kB 40.1 MB/s eta 0:00:01\n",
      "\u001b[?25hRequirement already satisfied: urllib3<3,>=1.21.1 in /opt/python/python3.7.9/lib/python3.7/site-packages (from requests->gcsfs) (1.26.20)\n",
      "Collecting google-api-core<3.0.0dev,>=2.15.0\n",
      "  Downloading google_api_core-2.23.0-py3-none-any.whl (156 kB)\n",
      "\u001b[K     |████████████████████████████████| 156 kB 47.3 MB/s eta 0:00:01\n",
      "\u001b[?25hCollecting google-resumable-media>=2.7.2\n",
      "  Downloading google_resumable_media-2.7.2-py2.py3-none-any.whl (81 kB)\n",
      "\u001b[K     |████████████████████████████████| 81 kB 10.4 MB/s eta 0:00:01\n",
      "\u001b[?25hCollecting google-crc32c<2.0dev,>=1.0\n",
      "  Downloading google_crc32c-1.5.0-cp37-cp37m-manylinux_2_17_x86_64.manylinux2014_x86_64.whl (32 kB)\n",
      "Collecting google-cloud-core<3.0dev,>=2.3.0\n",
      "  Downloading google_cloud_core-2.4.1-py2.py3-none-any.whl (29 kB)\n",
      "Collecting googleapis-common-protos<2.0.dev0,>=1.56.2\n",
      "  Downloading googleapis_common_protos-1.66.0-py2.py3-none-any.whl (221 kB)\n",
      "\u001b[K     |████████████████████████████████| 221 kB 38.8 MB/s eta 0:00:01\n",
      "\u001b[?25hCollecting proto-plus<2.0.0dev,>=1.22.3\n",
      "  Downloading proto_plus-1.25.0-py3-none-any.whl (50 kB)\n",
      "\u001b[K     |████████████████████████████████| 50 kB 6.9 MB/s  eta 0:00:01\n",
      "\u001b[?25hCollecting protobuf!=3.20.0,!=3.20.1,!=4.21.0,!=4.21.1,!=4.21.2,!=4.21.3,!=4.21.4,!=4.21.5,<6.0.0.dev0,>=3.19.5\n",
      "  Downloading protobuf-4.24.4-cp37-abi3-manylinux2014_x86_64.whl (311 kB)\n",
      "\u001b[K     |████████████████████████████████| 311 kB 43.3 MB/s eta 0:00:01\n",
      "\u001b[?25hRequirement already satisfied: zipp>=0.5 in /opt/python/python3.7.9/lib/python3.7/site-packages (from importlib-metadata->attrs>=17.3.0->aiohttp!=4.0.0a0,!=4.0.0a1->gcsfs) (3.8.1)\n",
      "\u001b[33mWARNING: Ignoring invalid distribution -sspec (/opt/python/python3.7.9/lib/python3.7/site-packages)\u001b[0m\n",
      "Installing collected packages: pyasn1, rsa, pyasn1-modules, protobuf, certifi, cachetools, requests, proto-plus, googleapis-common-protos, google-auth, oauthlib, google-crc32c, google-api-core, requests-oauthlib, google-resumable-media, google-cloud-core, google-cloud-storage, google-auth-oauthlib, gcsfs\n",
      "\u001b[33mWARNING: Ignoring invalid distribution -sspec (/opt/python/python3.7.9/lib/python3.7/site-packages)\u001b[0m\n",
      "\u001b[33mWARNING: Ignoring invalid distribution -sspec (/opt/python/python3.7.9/lib/python3.7/site-packages)\u001b[0m\n",
      "\u001b[33mWARNING: Ignoring invalid distribution -sspec (/opt/python/python3.7.9/lib/python3.7/site-packages)\u001b[0m\n",
      "\u001b[33mWARNING: Ignoring invalid distribution -sspec (/opt/python/python3.7.9/lib/python3.7/site-packages)\u001b[0m\n",
      "\u001b[33mWARNING: Ignoring invalid distribution -sspec (/opt/python/python3.7.9/lib/python3.7/site-packages)\u001b[0m\n",
      "\u001b[33mWARNING: Ignoring invalid distribution -sspec (/opt/python/python3.7.9/lib/python3.7/site-packages)\u001b[0m\n",
      "\u001b[33mWARNING: Ignoring invalid distribution -sspec (/opt/python/python3.7.9/lib/python3.7/site-packages)\u001b[0m\n",
      "\u001b[33mWARNING: Ignoring invalid distribution -sspec (/opt/python/python3.7.9/lib/python3.7/site-packages)\u001b[0m\n",
      "\u001b[33mWARNING: Ignoring invalid distribution -sspec (/opt/python/python3.7.9/lib/python3.7/site-packages)\u001b[0m\n",
      "\u001b[33mWARNING: Ignoring invalid distribution -sspec (/opt/python/python3.7.9/lib/python3.7/site-packages)\u001b[0m\n",
      "\u001b[33mWARNING: Ignoring invalid distribution -sspec (/opt/python/python3.7.9/lib/python3.7/site-packages)\u001b[0m\n",
      "\u001b[33mWARNING: Ignoring invalid distribution -sspec (/opt/python/python3.7.9/lib/python3.7/site-packages)\u001b[0m\n",
      "\u001b[33mWARNING: Ignoring invalid distribution -sspec (/opt/python/python3.7.9/lib/python3.7/site-packages)\u001b[0m\n",
      "\u001b[33mWARNING: Ignoring invalid distribution -sspec (/opt/python/python3.7.9/lib/python3.7/site-packages)\u001b[0m\n",
      "\u001b[33mWARNING: Ignoring invalid distribution -sspec (/opt/python/python3.7.9/lib/python3.7/site-packages)\u001b[0m\n",
      "\u001b[33mWARNING: Ignoring invalid distribution -sspec (/opt/python/python3.7.9/lib/python3.7/site-packages)\u001b[0m\n",
      "\u001b[33mWARNING: Ignoring invalid distribution -sspec (/opt/python/python3.7.9/lib/python3.7/site-packages)\u001b[0m\n",
      "\u001b[33mWARNING: Ignoring invalid distribution -sspec (/opt/python/python3.7.9/lib/python3.7/site-packages)\u001b[0m\n",
      "\u001b[33mWARNING: Ignoring invalid distribution -sspec (/opt/python/python3.7.9/lib/python3.7/site-packages)\u001b[0m\n",
      "Successfully installed cachetools-5.5.0 certifi-2024.8.30 gcsfs-2023.1.0 google-api-core-2.23.0 google-auth-2.36.0 google-auth-oauthlib-1.2.1 google-cloud-core-2.4.1 google-cloud-storage-2.18.2 google-crc32c-1.5.0 google-resumable-media-2.7.2 googleapis-common-protos-1.66.0 oauthlib-3.2.2 proto-plus-1.25.0 protobuf-4.24.4 pyasn1-0.5.1 pyasn1-modules-0.3.0 requests-2.31.0 requests-oauthlib-2.0.0 rsa-4.9\n",
      "\u001b[33mWARNING: Ignoring invalid distribution -sspec (/opt/python/python3.7.9/lib/python3.7/site-packages)\u001b[0m\n",
      "\u001b[33mWARNING: Ignoring invalid distribution -sspec (/opt/python/python3.7.9/lib/python3.7/site-packages)\u001b[0m\n",
      "\u001b[33mWARNING: Ignoring invalid distribution -sspec (/opt/python/python3.7.9/lib/python3.7/site-packages)\u001b[0m\n",
      "\u001b[33mWARNING: You are using pip version 21.1.1; however, version 24.0 is available.\n",
      "You should consider upgrading via the '/opt/python/python3.7.9/bin/python3.7 -m pip install --upgrade pip' command.\u001b[0m\n",
      "Note: you may need to restart the kernel to use updated packages.\n"
     ]
    }
   ],
   "source": [
    "pip install gcsfs"
   ]
  },
  {
   "cell_type": "code",
   "execution_count": 8,
   "id": "c1bc6df9",
   "metadata": {},
   "outputs": [
    {
     "name": "stdout",
     "output_type": "stream",
     "text": [
      "\u001b[33mWARNING: Ignoring invalid distribution -sspec (/opt/python/python3.7.9/lib/python3.7/site-packages)\u001b[0m\n",
      "\u001b[33mWARNING: Ignoring invalid distribution -sspec (/opt/python/python3.7.9/lib/python3.7/site-packages)\u001b[0m\n",
      "Requirement already satisfied: pandas in /opt/python/python3.7.9/lib/python3.7/site-packages (1.3.5)\n",
      "Requirement already satisfied: pyarrow in /opt/python/python3.7.9/lib/python3.7/site-packages (9.0.0)\n",
      "Collecting s3fs\n",
      "  Using cached s3fs-2023.1.0-py3-none-any.whl (27 kB)\n",
      "Requirement already satisfied: numpy>=1.17.3 in /opt/python/python3.7.9/lib/python3.7/site-packages (from pandas) (1.21.1)\n",
      "Requirement already satisfied: pytz>=2017.3 in /opt/python/python3.7.9/lib/python3.7/site-packages (from pandas) (2022.2.1)\n",
      "Requirement already satisfied: python-dateutil>=2.7.3 in /opt/python/python3.7.9/lib/python3.7/site-packages (from pandas) (2.8.2)\n",
      "Requirement already satisfied: six>=1.5 in /opt/python/python3.7.9/lib/python3.7/site-packages (from python-dateutil>=2.7.3->pandas) (1.16.0)\n",
      "Collecting aiobotocore~=2.4.2\n",
      "  Using cached aiobotocore-2.4.2-py3-none-any.whl (66 kB)\n",
      "Requirement already satisfied: fsspec==2023.1.0 in /opt/python/python3.7.9/lib/python3.7/site-packages (from s3fs) (2023.1.0)\n",
      "Requirement already satisfied: aiohttp!=4.0.0a0,!=4.0.0a1 in /opt/python/python3.7.9/lib/python3.7/site-packages (from s3fs) (3.8.6)\n",
      "Requirement already satisfied: wrapt>=1.10.10 in /opt/python/python3.7.9/lib/python3.7/site-packages (from aiobotocore~=2.4.2->s3fs) (1.16.0)\n",
      "Requirement already satisfied: botocore<1.27.60,>=1.27.59 in /opt/python/python3.7.9/lib/python3.7/site-packages (from aiobotocore~=2.4.2->s3fs) (1.27.59)\n",
      "Requirement already satisfied: aioitertools>=0.5.1 in /opt/python/python3.7.9/lib/python3.7/site-packages (from aiobotocore~=2.4.2->s3fs) (0.11.0)\n",
      "Requirement already satisfied: yarl<2.0,>=1.0 in /opt/python/python3.7.9/lib/python3.7/site-packages (from aiohttp!=4.0.0a0,!=4.0.0a1->s3fs) (1.9.4)\n",
      "Requirement already satisfied: multidict<7.0,>=4.5 in /opt/python/python3.7.9/lib/python3.7/site-packages (from aiohttp!=4.0.0a0,!=4.0.0a1->s3fs) (6.0.5)\n",
      "Requirement already satisfied: typing-extensions>=3.7.4 in /opt/python/python3.7.9/lib/python3.7/site-packages (from aiohttp!=4.0.0a0,!=4.0.0a1->s3fs) (4.3.0)\n",
      "Requirement already satisfied: aiosignal>=1.1.2 in /opt/python/python3.7.9/lib/python3.7/site-packages (from aiohttp!=4.0.0a0,!=4.0.0a1->s3fs) (1.3.1)\n",
      "Requirement already satisfied: attrs>=17.3.0 in /opt/python/python3.7.9/lib/python3.7/site-packages (from aiohttp!=4.0.0a0,!=4.0.0a1->s3fs) (24.2.0)\n",
      "Requirement already satisfied: async-timeout<5.0,>=4.0.0a3 in /opt/python/python3.7.9/lib/python3.7/site-packages (from aiohttp!=4.0.0a0,!=4.0.0a1->s3fs) (4.0.3)\n",
      "Requirement already satisfied: frozenlist>=1.1.1 in /opt/python/python3.7.9/lib/python3.7/site-packages (from aiohttp!=4.0.0a0,!=4.0.0a1->s3fs) (1.3.3)\n",
      "Requirement already satisfied: asynctest==0.13.0 in /opt/python/python3.7.9/lib/python3.7/site-packages (from aiohttp!=4.0.0a0,!=4.0.0a1->s3fs) (0.13.0)\n",
      "Requirement already satisfied: charset-normalizer<4.0,>=2.0 in /opt/python/python3.7.9/lib/python3.7/site-packages (from aiohttp!=4.0.0a0,!=4.0.0a1->s3fs) (3.4.0)\n",
      "Requirement already satisfied: importlib-metadata in /opt/python/python3.7.9/lib/python3.7/site-packages (from attrs>=17.3.0->aiohttp!=4.0.0a0,!=4.0.0a1->s3fs) (4.12.0)\n",
      "Requirement already satisfied: urllib3<1.27,>=1.25.4 in /opt/python/python3.7.9/lib/python3.7/site-packages (from botocore<1.27.60,>=1.27.59->aiobotocore~=2.4.2->s3fs) (1.26.20)\n",
      "Requirement already satisfied: jmespath<2.0.0,>=0.7.1 in /opt/python/python3.7.9/lib/python3.7/site-packages (from botocore<1.27.60,>=1.27.59->aiobotocore~=2.4.2->s3fs) (1.0.1)\n",
      "Requirement already satisfied: idna>=2.0 in /opt/python/python3.7.9/lib/python3.7/site-packages (from yarl<2.0,>=1.0->aiohttp!=4.0.0a0,!=4.0.0a1->s3fs) (3.10)\n",
      "Requirement already satisfied: zipp>=0.5 in /opt/python/python3.7.9/lib/python3.7/site-packages (from importlib-metadata->attrs>=17.3.0->aiohttp!=4.0.0a0,!=4.0.0a1->s3fs) (3.8.1)\n",
      "\u001b[33mWARNING: Ignoring invalid distribution -sspec (/opt/python/python3.7.9/lib/python3.7/site-packages)\u001b[0m\n",
      "Installing collected packages: aiobotocore, s3fs\n",
      "Successfully installed aiobotocore-2.4.2 s3fs-2023.1.0\n",
      "\u001b[33mWARNING: Ignoring invalid distribution -sspec (/opt/python/python3.7.9/lib/python3.7/site-packages)\u001b[0m\n",
      "\u001b[33mWARNING: Ignoring invalid distribution -sspec (/opt/python/python3.7.9/lib/python3.7/site-packages)\u001b[0m\n",
      "\u001b[33mWARNING: Ignoring invalid distribution -sspec (/opt/python/python3.7.9/lib/python3.7/site-packages)\u001b[0m\n",
      "\u001b[33mWARNING: You are using pip version 21.1.1; however, version 24.0 is available.\n",
      "You should consider upgrading via the '/opt/python/python3.7.9/bin/python3.7 -m pip install --upgrade pip' command.\u001b[0m\n",
      "Note: you may need to restart the kernel to use updated packages.\n"
     ]
    }
   ],
   "source": [
    "pip install pandas pyarrow s3fs --user"
   ]
  },
  {
   "cell_type": "code",
   "execution_count": 57,
   "id": "5f9bc5ac",
   "metadata": {},
   "outputs": [],
   "source": [
    "import pandas as pd"
   ]
  },
  {
   "cell_type": "code",
   "execution_count": 58,
   "id": "f13a7bd7",
   "metadata": {},
   "outputs": [],
   "source": [
    "import pyarrow.parquet as pq"
   ]
  },
  {
   "cell_type": "code",
   "execution_count": 59,
   "id": "cce2c4ac",
   "metadata": {},
   "outputs": [],
   "source": [
    "from pyspark.sql import SparkSession, Row"
   ]
  },
  {
   "cell_type": "code",
   "execution_count": 60,
   "id": "832e3e4c",
   "metadata": {},
   "outputs": [],
   "source": [
    "spark = SparkSession.builder \\\n",
    "    .appName(\"DataQualityEngineer\") \\\n",
    "    .getOrCreate()"
   ]
  },
  {
   "cell_type": "code",
   "execution_count": 61,
   "id": "11bc0078",
   "metadata": {},
   "outputs": [],
   "source": [
    "gsi_airports_parquet_path = \"gs://iskldl04-dqelearn-local-bucket/raw/airports/part-00001-a9aee747-6f56-4317-bf6b-075fe3b3ed5f-c000.snappy.parquet\" "
   ]
  },
  {
   "cell_type": "code",
   "execution_count": 62,
   "id": "1a951123",
   "metadata": {},
   "outputs": [],
   "source": [
    "airports_df = pd.read_parquet(gsi_airports_parquet_path, engine='pyarrow')"
   ]
  },
  {
   "cell_type": "code",
   "execution_count": 63,
   "id": "c8695dcd",
   "metadata": {},
   "outputs": [],
   "source": [
    "gsi_carriers_parquet_path = \"gs://iskldl04-dqelearn-local-bucket/raw/carriers/part-00001-366e67ad-4fd6-41cd-af99-1ff7b3e314db-c000.snappy.parquet\" "
   ]
  },
  {
   "cell_type": "code",
   "execution_count": 64,
   "id": "8a59b2ba",
   "metadata": {},
   "outputs": [],
   "source": [
    "carriers_df = pd.read_parquet(gsi_carriers_parquet_path, engine='pyarrow')"
   ]
  },
  {
   "cell_type": "code",
   "execution_count": 65,
   "id": "2b13f178",
   "metadata": {},
   "outputs": [],
   "source": [
    "gsi_flights_parquet_path = \"gs://iskldl04-dqelearn-local-bucket/raw/flights/part-00001-55c5be74-a9db-4265-8f2c-bceb8279269e-c000.snappy.parquet\" "
   ]
  },
  {
   "cell_type": "code",
   "execution_count": 66,
   "id": "65e283f0",
   "metadata": {},
   "outputs": [],
   "source": [
    "flights_df = pd.read_parquet(gsi_flights_parquet_path, engine='pyarrow')"
   ]
  },
  {
   "cell_type": "code",
   "execution_count": 67,
   "id": "b984356e",
   "metadata": {},
   "outputs": [],
   "source": [
    "def validate_unique_by_pk(parquet_file_path, pk_columns, engine='pyarrow'):\n",
    "    df = pd.read_parquet(parquet_file_path, engine=engine)\n",
    "    duplicates = df[df.duplicated(subset=pk_columns, keep=False)]\n",
    "    is_unique = duplicates.empty \n",
    "    return is_unique, duplicates"
   ]
  },
  {
   "cell_type": "code",
   "execution_count": 68,
   "id": "499677b6",
   "metadata": {},
   "outputs": [],
   "source": [
    "def validate_completeness_by_non_nullable(parquet_file_path, non_nullable_columns, engine='pyarrow'):\n",
    "    df = pd.read_parquet(parquet_file_path, engine=engine)\n",
    "    missing_values = df[non_nullable_columns].isnull().sum()\n",
    "    rows_with_missing_values = df[df[non_nullable_columns].isnull().any(axis=1)]\n",
    "    is_complete = rows_with_missing_values.empty\n",
    "    return is_complete, rows_with_missing_values"
   ]
  },
  {
   "cell_type": "code",
   "execution_count": 69,
   "id": "76bac788",
   "metadata": {},
   "outputs": [],
   "source": [
    "def check_column_consistency_between_csv_and_parquet(source_csv_path, target_parquet_path, column_name, engine='pyarrow'):\n",
    "    # Step 1: Read the source CSV and target Parquet files into Pandas DataFrames\n",
    "    source_df = pd.read_csv(source_csv_path)\n",
    "    target_df = pd.read_parquet(target_parquet_path, engine=engine)\n",
    "    \n",
    "    # Ensure the column exists in both DataFrames\n",
    "    if column_name not in source_df.columns:\n",
    "        raise ValueError(f\"Column '{column_name}' not found in the source CSV file.\")\n",
    "    if column_name not in target_df.columns:\n",
    "        raise ValueError(f\"Column '{column_name}' not found in the target Parquet file.\")\n",
    "    \n",
    "    # Step 2: Check for missing values in both source and target datasets\n",
    "    source_missing_values = source_df[column_name].isnull().sum()\n",
    "    target_missing_values = target_df[column_name].isnull().sum()\n",
    "    \n",
    "    if source_missing_values > 0 or target_missing_values > 0:\n",
    "        return False, f\"Missing values detected: Missing values in Source: {source_missing_values}, Missing values in Target: {target_missing_values}\"\n",
    "    \n",
    "    # Step 3: Check if the data types match between the source and target columns\n",
    "    source_dtype = source_df[column_name].dtype\n",
    "    target_dtype = target_df[column_name].dtype\n",
    "    \n",
    "    if source_dtype != target_dtype:\n",
    "        return False, f\"Data type mismatch: Source data type: {source_dtype}, Target data type: {target_dtype}\"\n",
    "    \n",
    "    # Step 4: Check if the values in the column match between source and target\n",
    "    if not source_df[column_name].equals(target_df[column_name]):\n",
    "        return False, \"Column values do not match between source and target datasets.\"\n",
    "    \n",
    "    # If all checks pass\n",
    "    return True, \"The column is consistent between source and target datasets.\""
   ]
  },
  {
   "cell_type": "code",
   "execution_count": 70,
   "id": "32e82a79",
   "metadata": {},
   "outputs": [],
   "source": [
    "dq_results = []"
   ]
  },
  {
   "cell_type": "code",
   "execution_count": 71,
   "id": "774e6aca",
   "metadata": {},
   "outputs": [],
   "source": [
    "primary_key_columns = ['code', 'description'] "
   ]
  },
  {
   "cell_type": "code",
   "execution_count": 72,
   "id": "ee67028b",
   "metadata": {},
   "outputs": [],
   "source": [
    "is_unique, duplicates = validate_unique_by_pk(gsi_carriers_parquet_path, primary_key_columns)"
   ]
  },
  {
   "cell_type": "code",
   "execution_count": 73,
   "id": "5a99cdbe",
   "metadata": {},
   "outputs": [],
   "source": [
    "if is_unique:\n",
    "    dq_results.append({\n",
    "        'Table': 'Carrier',\n",
    "        'DQ Check': 'Uniqueness',\n",
    "        'Column': primary_key_columns,\n",
    "        'Status': 'Passed',\n",
    "        'Bad Data': ''\n",
    "    })\n",
    "else:\n",
    "    dq_results.append({\n",
    "        'Table': 'Carrier',\n",
    "        'DQ Check': 'Uniqueness',\n",
    "        'Column': primary_key_columns,\n",
    "        'Status': 'Failed',\n",
    "        'Bad Data': duplicates\n",
    "    })"
   ]
  },
  {
   "cell_type": "code",
   "execution_count": 74,
   "id": "9e0c933b",
   "metadata": {},
   "outputs": [],
   "source": [
    "non_nullable_columns = ['iata', 'airport', 'city', 'state', 'country', 'lat', 'longt'] "
   ]
  },
  {
   "cell_type": "code",
   "execution_count": 75,
   "id": "01e5eddc",
   "metadata": {},
   "outputs": [],
   "source": [
    "is_complete, rows_with_missing_values = validate_completeness_by_non_nullable(gsi_airports_parquet_path, non_nullable_columns)"
   ]
  },
  {
   "cell_type": "code",
   "execution_count": 76,
   "id": "f2d2d99a",
   "metadata": {},
   "outputs": [],
   "source": [
    "if is_complete:\n",
    "    dq_results.append({\n",
    "        'Table': 'Airports',\n",
    "        'DQ Check': 'Completeness',\n",
    "        'Column': non_nullable_columns,\n",
    "        'Status': 'Passed',\n",
    "        'Bad Data': ''\n",
    "    })\n",
    "else:\n",
    "    dq_results.append({\n",
    "        'Table': 'Airports',\n",
    "        'DQ Check': 'Completeness',\n",
    "        'Column': non_nullable_columns,\n",
    "        'Status': 'Failed',\n",
    "        'Bad Data': rows_with_missing_values\n",
    "    })"
   ]
  },
  {
   "cell_type": "code",
   "execution_count": 77,
   "id": "19489049",
   "metadata": {},
   "outputs": [],
   "source": [
    "source_csv_flights_path = \"gs://iskldl04-dqelearn-local-bucket/source/flights.csv\" \n",
    "target_parquet_path = gsi_flights_parquet_path\n",
    "column_name = 'Dest'"
   ]
  },
  {
   "cell_type": "code",
   "execution_count": 78,
   "id": "342ecf1d",
   "metadata": {},
   "outputs": [],
   "source": [
    "is_consistent, message = check_column_consistency_between_csv_and_parquet(source_csv_flights_path, target_parquet_path, column_name)"
   ]
  },
  {
   "cell_type": "code",
   "execution_count": 79,
   "id": "d0f0fcad",
   "metadata": {},
   "outputs": [],
   "source": [
    "if is_consistent:\n",
    "    dq_results.append({\n",
    "        'Table': 'Flights',\n",
    "        'DQ Check': 'Consistency',\n",
    "        'Column': column_name,\n",
    "        'Status': 'Passed',\n",
    "        'Bad Data': ''\n",
    "    })\n",
    "else:\n",
    "    dq_results.append({\n",
    "        'Table': 'Flights',\n",
    "        'DQ Check': 'Consistency',\n",
    "        'Column': column_name,\n",
    "        'Status': 'Failed',\n",
    "        'Bad Data': message\n",
    "    })"
   ]
  },
  {
   "cell_type": "code",
   "execution_count": 80,
   "id": "69101261",
   "metadata": {},
   "outputs": [],
   "source": [
    "column_name = 'ArrDelay'"
   ]
  },
  {
   "cell_type": "code",
   "execution_count": 81,
   "id": "b43c3fb2",
   "metadata": {},
   "outputs": [],
   "source": [
    "is_consistent, message = check_column_consistency_between_csv_and_parquet(source_csv_flights_path, target_parquet_path, column_name)"
   ]
  },
  {
   "cell_type": "code",
   "execution_count": 82,
   "id": "16d82ff2",
   "metadata": {},
   "outputs": [],
   "source": [
    "if is_consistent:\n",
    "    dq_results.append({\n",
    "        'Table': 'Flights',\n",
    "        'DQ Check': 'Consistency',\n",
    "        'Column': column_name,\n",
    "        'Status': 'Passed',\n",
    "        'Bad Data': ''\n",
    "    })\n",
    "else:\n",
    "    dq_results.append({\n",
    "        'Table': 'Flights',\n",
    "        'DQ Check': 'Consistency',\n",
    "        'Column': column_name,\n",
    "        'Status': 'Failed',\n",
    "        'Bad Data': message\n",
    "    })"
   ]
  },
  {
   "cell_type": "code",
   "execution_count": 83,
   "id": "3b3a26f6",
   "metadata": {},
   "outputs": [],
   "source": [
    "dq_summary_df = pd.DataFrame(dq_results)"
   ]
  },
  {
   "cell_type": "code",
   "execution_count": 84,
   "id": "6db9e302",
   "metadata": {},
   "outputs": [
    {
     "data": {
      "text/html": [
       "<div>\n",
       "<style scoped>\n",
       "    .dataframe tbody tr th:only-of-type {\n",
       "        vertical-align: middle;\n",
       "    }\n",
       "\n",
       "    .dataframe tbody tr th {\n",
       "        vertical-align: top;\n",
       "    }\n",
       "\n",
       "    .dataframe thead th {\n",
       "        text-align: right;\n",
       "    }\n",
       "</style>\n",
       "<table border=\"1\" class=\"dataframe\">\n",
       "  <thead>\n",
       "    <tr style=\"text-align: right;\">\n",
       "      <th></th>\n",
       "      <th>Table</th>\n",
       "      <th>DQ Check</th>\n",
       "      <th>Column</th>\n",
       "      <th>Status</th>\n",
       "      <th>Bad Data</th>\n",
       "    </tr>\n",
       "  </thead>\n",
       "  <tbody>\n",
       "    <tr>\n",
       "      <th>0</th>\n",
       "      <td>Carrier</td>\n",
       "      <td>Uniqueness</td>\n",
       "      <td>[code, description]</td>\n",
       "      <td>Failed</td>\n",
       "      <td>code          description\n",
       "735  ZUQ  Zulian...</td>\n",
       "    </tr>\n",
       "    <tr>\n",
       "      <th>1</th>\n",
       "      <td>Airports</td>\n",
       "      <td>Completeness</td>\n",
       "      <td>[iata, airport, city, state, country, lat, longt]</td>\n",
       "      <td>Passed</td>\n",
       "      <td></td>\n",
       "    </tr>\n",
       "    <tr>\n",
       "      <th>2</th>\n",
       "      <td>Flights</td>\n",
       "      <td>Consistency</td>\n",
       "      <td>Dest</td>\n",
       "      <td>Failed</td>\n",
       "      <td>Missing values detected: Missing values in Sou...</td>\n",
       "    </tr>\n",
       "    <tr>\n",
       "      <th>3</th>\n",
       "      <td>Flights</td>\n",
       "      <td>Consistency</td>\n",
       "      <td>ArrDelay</td>\n",
       "      <td>Failed</td>\n",
       "      <td>Missing values detected: Missing values in Sou...</td>\n",
       "    </tr>\n",
       "  </tbody>\n",
       "</table>\n",
       "</div>"
      ],
      "text/plain": [
       "      Table      DQ Check                                             Column  \\\n",
       "0   Carrier    Uniqueness                                [code, description]   \n",
       "1  Airports  Completeness  [iata, airport, city, state, country, lat, longt]   \n",
       "2   Flights   Consistency                                               Dest   \n",
       "3   Flights   Consistency                                           ArrDelay   \n",
       "\n",
       "   Status                                           Bad Data  \n",
       "0  Failed      code          description\n",
       "735  ZUQ  Zulian...  \n",
       "1  Passed                                                     \n",
       "2  Failed  Missing values detected: Missing values in Sou...  \n",
       "3  Failed  Missing values detected: Missing values in Sou...  "
      ]
     },
     "execution_count": 84,
     "metadata": {},
     "output_type": "execute_result"
    }
   ],
   "source": [
    "dq_summary_df"
   ]
  },
  {
   "cell_type": "code",
   "execution_count": 85,
   "id": "df0fc7f2",
   "metadata": {},
   "outputs": [],
   "source": [
    "dq_summary_df.to_csv('dq:report.csv', index=False)"
   ]
  },
  {
   "cell_type": "code",
   "execution_count": null,
   "id": "fc07b5b8",
   "metadata": {},
   "outputs": [],
   "source": []
  }
 ],
 "metadata": {
  "kernelspec": {
   "display_name": "Local PySpark (Python-3.7.9 / Spark-3.0.1 )",
   "language": "python",
   "name": "py3spark_local"
  },
  "language_info": {
   "codemirror_mode": {
    "name": "ipython",
    "version": 3
   },
   "file_extension": ".py",
   "mimetype": "text/x-python",
   "name": "python",
   "nbconvert_exporter": "python",
   "pygments_lexer": "ipython3",
   "version": "3.7.9"
  }
 },
 "nbformat": 4,
 "nbformat_minor": 5
}
